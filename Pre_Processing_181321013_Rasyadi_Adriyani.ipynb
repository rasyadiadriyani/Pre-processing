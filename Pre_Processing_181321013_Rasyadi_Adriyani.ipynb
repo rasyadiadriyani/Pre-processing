{
  "nbformat": 4,
  "nbformat_minor": 0,
  "metadata": {
    "colab": {
      "name": "Pre-Processing_181321013_Rasyadi_Adriyani.ipynb",
      "provenance": []
    },
    "kernelspec": {
      "name": "python3",
      "display_name": "Python 3"
    }
  },
  "cells": [
    {
      "cell_type": "code",
      "metadata": {
        "colab": {
          "base_uri": "https://localhost:8080/"
        },
        "id": "b6av6aD80sGg",
        "outputId": "090f79ca-aec5-4882-f398-9bfa2254b9d9"
      },
      "source": [
        "from google.colab import drive\r\n",
        "drive.mount('/content/drive')"
      ],
      "execution_count": 1,
      "outputs": [
        {
          "output_type": "stream",
          "text": [
            "Mounted at /content/drive\n"
          ],
          "name": "stdout"
        }
      ]
    },
    {
      "cell_type": "code",
      "metadata": {
        "id": "F6Ohm6Xe1SdK"
      },
      "source": [
        "PATH = \"/content/drive/My Drive/UBHARA/Matkul SM 5/Data Mining New/preprocessing\"\r\n",
        "import os\r\n",
        "os.chdir (PATH)"
      ],
      "execution_count": 3,
      "outputs": []
    },
    {
      "cell_type": "code",
      "metadata": {
        "colab": {
          "base_uri": "https://localhost:8080/"
        },
        "id": "GUMxs1jv1XlB",
        "outputId": "0e2d1def-ffbc-41ea-f2d4-28c86521a3cc"
      },
      "source": [
        "# PP. 1.1\r\n",
        "import numpy as np\r\n",
        "X = np.random.randint(0, 5001, (1000, 2))\r\n",
        "\r\n",
        "print(X.shape)\r\n",
        "ave_cols = np.mean(X, axis=0)\r\n",
        "\r\n",
        "std_cols = X.std(axis=0)\r\n",
        "\r\n",
        "print(ave_cols.shape)\r\n",
        "print(std_cols.shape)\r\n",
        "X_norm = (X - ave_cols)/std_cols\r\n",
        "print(np.mean(X_norm, axis=0))\r\n",
        "print(np.min(X_norm, axis=0))\r\n",
        "print(np.max(X_norm, axis=0))\r\n",
        "print(np.std(X_norm, axis=0))"
      ],
      "execution_count": 18,
      "outputs": [
        {
          "output_type": "stream",
          "text": [
            "(1000, 2)\n",
            "(2,)\n",
            "(2,)\n",
            "[-9.75886039e-17 -1.50934820e-16]\n",
            "[-1.77269204 -1.79938683]\n",
            "[1.70315287 1.76861779]\n",
            "[1. 1.]\n"
          ],
          "name": "stdout"
        }
      ]
    },
    {
      "cell_type": "code",
      "metadata": {
        "colab": {
          "base_uri": "https://localhost:8080/"
        },
        "id": "0V70f95TRP1W",
        "outputId": "431012f5-9e00-4ddd-f47d-2be7d5edadf4"
      },
      "source": [
        "X_norm_sample = X_norm[row_indices[0:1000]]\r\n",
        "train = X_norm[row_indices[0:600]]\r\n",
        "validation = X_norm[row_indices[0:300]]\r\n",
        "test = X_norm[row_indices[0:100]]\r\n",
        "daviasi = np.std(train, axis=0)\r\n",
        "daviasi"
      ],
      "execution_count": 21,
      "outputs": [
        {
          "output_type": "execute_result",
          "data": {
            "text/plain": [
              "array([0.99513482, 1.01087743])"
            ]
          },
          "metadata": {
            "tags": []
          },
          "execution_count": 21
        }
      ]
    },
    {
      "cell_type": "code",
      "metadata": {
        "colab": {
          "base_uri": "https://localhost:8080/"
        },
        "id": "tFLrMRXtUUCN",
        "outputId": "8f31b42f-0be9-4f21-f2ba-cd5221c343b4"
      },
      "source": [
        "X_norm_sample = X_norm[row_indices[0:1000]]\r\n",
        "train = X_norm[row_indices[0:600]]\r\n",
        "validation = X_norm[row_indices[0:300]]\r\n",
        "test = X_norm[row_indices[0:100]]\r\n",
        "daviasi = np.std(validation, axis=0)\r\n",
        "daviasi"
      ],
      "execution_count": 23,
      "outputs": [
        {
          "output_type": "execute_result",
          "data": {
            "text/plain": [
              "array([1.00830489, 0.99170291])"
            ]
          },
          "metadata": {
            "tags": []
          },
          "execution_count": 23
        }
      ]
    },
    {
      "cell_type": "code",
      "metadata": {
        "colab": {
          "base_uri": "https://localhost:8080/"
        },
        "id": "d7NcK9dxUcuP",
        "outputId": "de4a3442-0b56-48c5-dd99-3319048ce1c5"
      },
      "source": [
        "X_norm_sample = X_norm[row_indices[0:1000]]\r\n",
        "train = X_norm[row_indices[0:600]]\r\n",
        "validation = X_norm[row_indices[0:300]]\r\n",
        "test = X_norm[row_indices[0:100]]\r\n",
        "daviasi = np.std(test, axis=0)\r\n",
        "daviasi"
      ],
      "execution_count": 24,
      "outputs": [
        {
          "output_type": "execute_result",
          "data": {
            "text/plain": [
              "array([1.04610078, 0.97158099])"
            ]
          },
          "metadata": {
            "tags": []
          },
          "execution_count": 24
        }
      ]
    },
    {
      "cell_type": "code",
      "metadata": {
        "colab": {
          "base_uri": "https://localhost:8080/",
          "height": 406
        },
        "id": "eGuBzoB6W3Ak",
        "outputId": "cf4d544e-a7c1-4194-b99c-dc3ca2b8d5b0"
      },
      "source": [
        "df = pd.DataFrame(X_norm)\r\n",
        "df"
      ],
      "execution_count": 25,
      "outputs": [
        {
          "output_type": "execute_result",
          "data": {
            "text/html": [
              "<div>\n",
              "<style scoped>\n",
              "    .dataframe tbody tr th:only-of-type {\n",
              "        vertical-align: middle;\n",
              "    }\n",
              "\n",
              "    .dataframe tbody tr th {\n",
              "        vertical-align: top;\n",
              "    }\n",
              "\n",
              "    .dataframe thead th {\n",
              "        text-align: right;\n",
              "    }\n",
              "</style>\n",
              "<table border=\"1\" class=\"dataframe\">\n",
              "  <thead>\n",
              "    <tr style=\"text-align: right;\">\n",
              "      <th></th>\n",
              "      <th>0</th>\n",
              "      <th>1</th>\n",
              "    </tr>\n",
              "  </thead>\n",
              "  <tbody>\n",
              "    <tr>\n",
              "      <th>0</th>\n",
              "      <td>0.109303</td>\n",
              "      <td>0.083806</td>\n",
              "    </tr>\n",
              "    <tr>\n",
              "      <th>1</th>\n",
              "      <td>-0.911039</td>\n",
              "      <td>0.145176</td>\n",
              "    </tr>\n",
              "    <tr>\n",
              "      <th>2</th>\n",
              "      <td>0.004207</td>\n",
              "      <td>0.047412</td>\n",
              "    </tr>\n",
              "    <tr>\n",
              "      <th>3</th>\n",
              "      <td>0.322977</td>\n",
              "      <td>0.993647</td>\n",
              "    </tr>\n",
              "    <tr>\n",
              "      <th>4</th>\n",
              "      <td>1.638424</td>\n",
              "      <td>-1.364804</td>\n",
              "    </tr>\n",
              "    <tr>\n",
              "      <th>...</th>\n",
              "      <td>...</td>\n",
              "      <td>...</td>\n",
              "    </tr>\n",
              "    <tr>\n",
              "      <th>995</th>\n",
              "      <td>0.412065</td>\n",
              "      <td>-0.763238</td>\n",
              "    </tr>\n",
              "    <tr>\n",
              "      <th>996</th>\n",
              "      <td>-0.060522</td>\n",
              "      <td>0.875903</td>\n",
              "    </tr>\n",
              "    <tr>\n",
              "      <th>997</th>\n",
              "      <td>-1.260433</td>\n",
              "      <td>-0.198066</td>\n",
              "    </tr>\n",
              "    <tr>\n",
              "      <th>998</th>\n",
              "      <td>1.348887</td>\n",
              "      <td>-0.696160</td>\n",
              "    </tr>\n",
              "    <tr>\n",
              "      <th>999</th>\n",
              "      <td>0.651491</td>\n",
              "      <td>-0.184508</td>\n",
              "    </tr>\n",
              "  </tbody>\n",
              "</table>\n",
              "<p>1000 rows × 2 columns</p>\n",
              "</div>"
            ],
            "text/plain": [
              "            0         1\n",
              "0    0.109303  0.083806\n",
              "1   -0.911039  0.145176\n",
              "2    0.004207  0.047412\n",
              "3    0.322977  0.993647\n",
              "4    1.638424 -1.364804\n",
              "..        ...       ...\n",
              "995  0.412065 -0.763238\n",
              "996 -0.060522  0.875903\n",
              "997 -1.260433 -0.198066\n",
              "998  1.348887 -0.696160\n",
              "999  0.651491 -0.184508\n",
              "\n",
              "[1000 rows x 2 columns]"
            ]
          },
          "metadata": {
            "tags": []
          },
          "execution_count": 25
        }
      ]
    },
    {
      "cell_type": "code",
      "metadata": {
        "colab": {
          "base_uri": "https://localhost:8080/",
          "height": 1000
        },
        "id": "IlbXWbun1lUe",
        "outputId": "90dfbc07-f186-4a0e-be10-ba063bfa6078"
      },
      "source": [
        "# PP.1-2\r\n",
        "\r\n",
        "jum = X_norm.shape[0]\r\n",
        "row_indices = np.random.permutation(jum)\r\n",
        "print(row_indices)\r\n",
        "\r\n",
        "\"\"\"Membuat sampel 400 data\"\"\"\r\n",
        "X_norm_sample = X_norm[row_indices[0:80]]\r\n",
        "\r\n",
        "import matplotlib.pyplot as plt\r\n",
        "# Visualising the data\r\n",
        "plt.scatter(X_norm[:,0], X_norm[:,1], color = 'red')\r\n",
        "plt.title('All data')\r\n",
        "plt.xlabel('X')\r\n",
        "plt.ylabel('Y')\r\n",
        "plt.show()\r\n",
        "\r\n",
        "# Visualising the sample\r\n",
        "plt.scatter (X_norm_sample[:,0], X_norm_sample[:,1], color = 'red')\r\n",
        "plt.title('Sampel data')\r\n",
        "plt.xlabel('X')\r\n",
        "plt.ylabel('Y')\r\n",
        "plt.show()"
      ],
      "execution_count": 14,
      "outputs": [
        {
          "output_type": "stream",
          "text": [
            "[ 27 636 161 381 963 849 414 437 480 691 279 196 879 794 565 205 669 621\n",
            " 501 840 144  69 298 818 111  57 927 386 791 672 657 629 358 328 852 376\n",
            " 100 413 772 900 183 493  42  46 638  97   4 799 845 594 584 689  56 897\n",
            " 568 541 931 239 688 319 408 473  31  89 610 132 941 964 972 143  83 206\n",
            "   6 848 893 346 471 692 531 891 267 662 163 373 680 260 751 995 734  98\n",
            " 648  85 979 803 451  22 173 755 263 533 709 731 846  72 754 809 296 229\n",
            " 970 942 203 459 269 148 956 517 118  96 903 315 530 461 406 922  50 401\n",
            " 280 217  54  10 176 510 583 932 865 188 509 640 557 283 946 449 481 395\n",
            " 528 581 564 525 707 391 561 273 559 475 811 365 853 569 120 513 523 539\n",
            " 740 711  37 282 277  77  87 844  91 491 500 454 881 550 209 876 683 642\n",
            " 426 566 374 492 795 543 591 578 944 452 420 776 259 587 483 935 742 681\n",
            " 785 142 985 504 828  95 332 992 339 534 195 737 727 335 625 954 650 675\n",
            " 231 529 362 722 503 978 149 497 218 896 851 929 192 429 837 353 245 444\n",
            " 423 981 602 212 464 953 843 958 821 558 961 973  59 708 697  19 101 983\n",
            " 905 919 409 477  90 316 721 805  88 644 950 952 726 496 472 448  62 502\n",
            " 122 516 290 779 827 524  64 329 520 948 674 369 593 611 302 340 670 268\n",
            " 748 404 383 515  32 189 800 345 733 815 645 140 549 236 389 633 626 886\n",
            " 635  55 989 957 864 930 237 943 246 639  49 190  14 757 113  28 317 857\n",
            " 536 432 285 538 738 145  11  71 526 714 854 469 300 658  30 546 817 556\n",
            " 603 921   7 554 676 498 521 388 384 299 994 665 574 686 342 684 261 998\n",
            " 347 704 307 123 723 241 895 860 440 955 615 777 614 463 131 356 917 330\n",
            " 215 354 292  60 200 831 969 884 275 836 214 310 949 364 146 226 367 201\n",
            " 110 783 780 438 883 436 178  29 419 713  12 907 695 288 103 597 673 322\n",
            " 105 875 760 592 677 759 936 988 535 661  99 553 234  81 892 874 180 489\n",
            " 630 679 823 348 915 911 814 253  73 585 735 416 991  44 456 933 965 934\n",
            " 641 366 166 124 304 862 775 323 872 866 631 613 787 739  76 551 337 588\n",
            " 773 177 867 882 746 816 647 808 540 778 336 694 824 889 216  94 126 838\n",
            " 702  24 701  48  67 443 151 986 185 741 572 632  43 756 712 270 743 649\n",
            " 390 248 745 297 326 869 923 999 790 250 494 590 399 258 271 835 134 885\n",
            " 255 402 487 980 227 856 172 119 887 764  13 770 499 377 155 306 589 411\n",
            " 678 221 512 370 774 646 186 147 993 121 476 256 445 767 295  25 820   0\n",
            " 181 193 868 781 421  47 987 511 505 138 623 363 398 453 560 918 349 582\n",
            " 474 643 106 262 850 235 312 542   1 570 627 107 468 314 706 982 730 128\n",
            " 609 789 247 608   5 786 249 576 251 324 813 700 484   9 407 139 599 710\n",
            " 690 598 252 725 916 309 434  52 663 685 208 199 291 422 301 622 243 765\n",
            " 495  66 458 490 577  86 968 104 825 902  75  78 228 109 125 281 703 977\n",
            " 937 165 168 137 766 506 659 920 368 595 400 238 507 926 431 352  84 141\n",
            " 108 116 344 278 858 439 819 171 580 382 898  53 133 460 450  93 606   3\n",
            " 802 405 467 361 213 428 762 796 793 656 651 117 768 441 847 508 359 462\n",
            " 653 612 222 782 880  63 890 392 479 752 410 179 544 286 159 174 393 861\n",
            " 187 350 655  65 457  70 397 744 305 415 894 693 913 204 167  33 378 718\n",
            " 951 870 830 947  45 938 912 705 265 732 863 761 341 888 928  36 719 974\n",
            " 833 284 990 832 418 254  34 801 962 966 266 371 604 634 182 753 618 666\n",
            " 724 242  68 624 115  92 822 682 394 210 749 637 908 219 357 351 939 160\n",
            " 562  35 325 855 545 997 596 763 158 871 293 327 157 984 435 616 446 607\n",
            "  26 519 257 729 220 841 668 135 728  74 303  23 792  82 470 488 156 375\n",
            "  51 664 548 175 191 901 687 164 797 170  16 486 102 232 914 940 605 976\n",
            " 810  17  80  18 747 244 129 527 660 910 427 485 465 806 798 652 671 184\n",
            " 294 380 514  20 555 482 720 859 788 320 698 333 571 717  39 264 547 758\n",
            " 699 331 127 233 230 771 537 425 355 829 197 975 152 223 136 372 812 198\n",
            " 387 532 334 287 424 925 162 276 225 579 784 696 654 573 967 960 274  79\n",
            "  40 412 240 586 360 202 455 308 207 466 575 959 667 750 379  61  21 552\n",
            " 839 834 403 842 442 804 971 385 313 877 130 716 343 224 154 619 924 447\n",
            " 194 563 628 112 600  41 518 396 996 873 478 321  38 904 311 114   8 272\n",
            " 807 150 601 169 826 617 899 433  58 769   2 715 522 945 153  15 909 430\n",
            " 620 878 318 567 417 736 338 211 906 289]\n"
          ],
          "name": "stdout"
        },
        {
          "output_type": "display_data",
          "data": {
            "image/png": "[encoded data removed]",
            "text/plain": [
              "<Figure size 432x288 with 1 Axes>"
            ]
          },
          "metadata": {
            "tags": [],
            "needs_background": "light"
          }
        },
        {
          "output_type": "display_data",
          "data": {
            "image/png": "[encoded data removed]",
            "text/plain": [
              "<Figure size 432x288 with 1 Axes>"
            ]
          },
          "metadata": {
            "tags": [],
            "needs_background": "light"
          }
        },
        {
          "output_type": "execute_result",
          "data": {
            "text/plain": [
              "array([9.1038288e-17, 1.2201351e-16])"
            ]
          },
          "metadata": {
            "tags": []
          },
          "execution_count": 14
        }
      ]
    },
    {
      "cell_type": "code",
      "metadata": {
        "colab": {
          "base_uri": "https://localhost:8080/"
        },
        "id": "Cg4iRyDm1rGp",
        "outputId": "6025a03b-c2fa-4030-f77a-6682bd4e5a3c"
      },
      "source": [
        "# PP. 1.3\r\n",
        "# No. 1\r\n",
        "# Pengkodean menggunakan angka integer mulia 0, 1, 2, dst.\r\n",
        "from sklearn import preprocessing\r\n",
        "enc = preprocessing.OrdinalEncoder()\r\n",
        "X = [['male', 'from US', 'uses Safari'], ['female', 'from Europe','uses Firefox'], ['female', 'from Asia', 'uses Firefox'], ['male', 'fromAfrica', 'usesIE']]\r\n",
        "enc.fit(X)\r\n",
        "print(enc.transform([['female', 'from US', 'uses Safari']]))\r\n",
        "print(enc.transform([['male', 'from Asia', 'uses Firefox']]))\r\n",
        "print(enc.transform([['male', 'fromAfrica', 'usesIE']]))"
      ],
      "execution_count": 7,
      "outputs": [
        {
          "output_type": "stream",
          "text": [
            "[[0. 2. 1.]]\n",
            "[[1. 0. 0.]]\n",
            "[[1. 3. 2.]]\n"
          ],
          "name": "stdout"
        }
      ]
    },
    {
      "cell_type": "code",
      "metadata": {
        "colab": {
          "base_uri": "https://localhost:8080/"
        },
        "id": "GY5nUy3Z1umi",
        "outputId": "c999b540-c430-4964-ff22-a41fdf02d9a1"
      },
      "source": [
        "# PP. 1.3\r\n",
        "# No. 2\r\n",
        "# Jika ada 2 variasi nilai maka menjadi dua digit, jika 3 variasi nilai menjadi 3 digit\r\n",
        "from sklearn import preprocessing\r\n",
        "enc = preprocessing.OneHotEncoder()\r\n",
        "X = [['male', 'from US', 'uses Safari'], ['female', 'from Europe','uses Firefox'], ['female', 'from Asia', 'uses Firefox'], ['male', 'fromAfrica', 'usesIE']] \r\n",
        "enc.fit(X)\r\n",
        "X_encoding=enc.transform([['female', 'from US', 'uses Safari'],['male', 'from Asia', 'uses Safari'], ['male', 'fromAfrica', 'usesIE']]).toarray()\r\n",
        "print(X_encoding)"
      ],
      "execution_count": 8,
      "outputs": [
        {
          "output_type": "stream",
          "text": [
            "[[1. 0. 0. 0. 1. 0. 0. 1. 0.]\n",
            " [0. 1. 1. 0. 0. 0. 0. 1. 0.]\n",
            " [0. 1. 0. 0. 0. 1. 0. 0. 1.]]\n"
          ],
          "name": "stdout"
        }
      ]
    },
    {
      "cell_type": "code",
      "metadata": {
        "colab": {
          "base_uri": "https://localhost:8080/"
        },
        "id": "ZdYl9ZMf1yEt",
        "outputId": "4151f733-923f-4044-e7fc-39f2729261ea"
      },
      "source": [
        "genders = ['female', 'male']\r\n",
        "locations = ['from Africa', 'from Asia', 'from Europe', 'from US', 'fromAfrica']\r\n",
        "browsers = ['uses Chrome', 'uses Firefox', 'uses IE', 'uses Safari', 'usesIE']\r\n",
        "enc = preprocessing.OneHotEncoder(categories=[genders, locations, browsers])\r\n",
        "# Note that for there are missing categorical values for the 2nd and 3rd feature\r\n",
        "X = [['male', 'from US', 'uses Safari'], ['female', 'from Europe','uses Firefox'], ['male', 'fromAfrica', 'usesIE']]\r\n",
        "enc.fit(X)\r\n",
        "enc.transform([['male', 'fromAfrica', 'usesIE']]).toarray()"
      ],
      "execution_count": 9,
      "outputs": [
        {
          "output_type": "execute_result",
          "data": {
            "text/plain": [
              "array([[0., 1., 0., 0., 0., 0., 1., 0., 0., 0., 0., 1.]])"
            ]
          },
          "metadata": {
            "tags": []
          },
          "execution_count": 9
        }
      ]
    },
    {
      "cell_type": "code",
      "metadata": {
        "colab": {
          "base_uri": "https://localhost:8080/"
        },
        "id": "e3s8-hmI13ny",
        "outputId": "aea6eaa6-f911-42a8-e15b-35f559f47a36"
      },
      "source": [
        "# PP. 1.4\r\n",
        "# No. 1\r\n",
        "\r\n",
        "\r\n",
        "# Menyelesaikan missing value dengan rata-rata sisa data lainya\r\n",
        "# Missing value numerik\r\n",
        "import numpy as np\r\n",
        "from sklearn.impute import SimpleImputer\r\n",
        "imp = SimpleImputer(missing_values=np.nan, strategy='mean')\r\n",
        "\r\n",
        "# Data yang dijadikan model\r\n",
        "df = [[1, 2], [np.nan, 3], [7, 6]]\r\n",
        "\r\n",
        "# Fitting model\r\n",
        "imp.fit(df)\r\n",
        "\r\n",
        "# Memproses data di df\r\n",
        "# Missing value dikolom 1 akan diganti rata-rata nilai kolom 1 yang ada nilainya\r\n",
        "print(imp.transform(df))\r\n",
        "\r\n",
        "# Memproses data lainnya\r\n",
        "# Missing value dikolom 2 akan diganti rata-rata nilai kolom 2 model sebelumnya\r\n",
        "X = [[np.nan, 2], [6, np.nan], [7, 6]]\r\n",
        "print(imp.transform(X))\r\n",
        "\r\n",
        "# Missing value kategorikal\r\n",
        "import pandas as pd\r\n",
        "df = pd.DataFrame ([[\"a\", \"x\"],\r\n",
        "                    [np.nan, \"x\"],\r\n",
        "                    [\"a\", np.nan],\r\n",
        "                    [\"b\", \"y\"]], dtype=\"category\")\r\n",
        "\r\n",
        "imp = SimpleImputer(strategy=\"most_frequent\")\r\n",
        "\r\n",
        "# Missing value akan diambil dari modus (nilai sering muncul) dari data data di model\r\n",
        "print(imp.fit_transform(df))"
      ],
      "execution_count": 10,
      "outputs": [
        {
          "output_type": "stream",
          "text": [
            "[[1. 2.]\n",
            " [4. 3.]\n",
            " [7. 6.]]\n",
            "[[4.         2.        ]\n",
            " [6.         3.66666667]\n",
            " [7.         6.        ]]\n",
            "[['a' 'x']\n",
            " ['a' 'x']\n",
            " ['a' 'x']\n",
            " ['b' 'y']]\n"
          ],
          "name": "stdout"
        }
      ]
    },
    {
      "cell_type": "code",
      "metadata": {
        "colab": {
          "base_uri": "https://localhost:8080/"
        },
        "id": "tb5kPulM18BT",
        "outputId": "5621a9a6-906d-48d6-a9d6-6f9df8d8feee"
      },
      "source": [
        "# No. 2\r\n",
        "\r\n",
        "import numpy as np\r\n",
        "from sklearn.impute import SimpleImputer\r\n",
        "imp = SimpleImputer(missing_values=np.nan, strategy='mean')\r\n",
        "\r\n",
        "df = [[5, 11], [9, 4], [np.nan, 6], [11, 5], [np.nan, 7], [8, np.nan]]\r\n",
        "\r\n",
        "imp.fit(df)\r\n",
        "\r\n",
        "print(imp.transform(df))\r\n",
        "\r\n",
        "X = [[np.nan, 6], [2, 4], [5,9], [7,np.nan], [12, 4]]\r\n",
        "print(imp.transform(X))\r\n",
        "\r\n",
        "import pandas as pd\r\n",
        "df = pd.DataFrame ([[\"a\", \"x\"],\r\n",
        "                    [np.nan, \"x\"],\r\n",
        "                    [\"a\", np.nan],\r\n",
        "                    [\"b\", \"y\"]], dtype=\"category\")\r\n",
        "\r\n",
        "imp = SimpleImputer(strategy=\"most_frequent\")\r\n",
        "\r\n",
        "print(imp.fit_transform(df))"
      ],
      "execution_count": 11,
      "outputs": [
        {
          "output_type": "stream",
          "text": [
            "[[ 5.   11.  ]\n",
            " [ 9.    4.  ]\n",
            " [ 8.25  6.  ]\n",
            " [11.    5.  ]\n",
            " [ 8.25  7.  ]\n",
            " [ 8.    6.6 ]]\n",
            "[[ 8.25  6.  ]\n",
            " [ 2.    4.  ]\n",
            " [ 5.    9.  ]\n",
            " [ 7.    6.6 ]\n",
            " [12.    4.  ]]\n",
            "[['a' 'x']\n",
            " ['a' 'x']\n",
            " ['a' 'x']\n",
            " ['b' 'y']]\n"
          ],
          "name": "stdout"
        }
      ]
    },
    {
      "cell_type": "code",
      "metadata": {
        "colab": {
          "base_uri": "https://localhost:8080/"
        },
        "id": "BECbqnkk2Acp",
        "outputId": "a96a9142-e8cc-4160-dbde-32543fb1bf56"
      },
      "source": [
        "import numpy as np\r\n",
        "from sklearn.impute import SimpleImputer\r\n",
        "imp = SimpleImputer(missing_values=np.nan, strategy='mean')\r\n",
        "df = [[5, 11], [np.nan, 6], [11, 5]]\r\n",
        "\r\n",
        "imp.fit(df)\r\n",
        "print(imp.transform(df))\r\n",
        "\r\n",
        "X = [[np.nan, 6],[2, 4],[5, 9], [7, np.nan], [12, 4]]\r\n",
        "print(imp.transform(X))\r\n",
        "\r\n",
        "import pandas as pd\r\n",
        "df = pd.DataFrame([[\"Small\", \"Surabaya\"],[\"Small\", \"Gresik\"],[\"Medium\", \"Gresik\"],[np.nan, \"Sidoarjo\"],[\"Small\", np.nan],[\"Large\", np.nan]], dtype=\"category\")\r\n",
        "imp = SimpleImputer(strategy=\"most_frequent\")\r\n",
        "\r\n",
        "print(imp.fit_transform(df))"
      ],
      "execution_count": 12,
      "outputs": [
        {
          "output_type": "stream",
          "text": [
            "[[ 5. 11.]\n",
            " [ 8.  6.]\n",
            " [11.  5.]]\n",
            "[[ 8.          6.        ]\n",
            " [ 2.          4.        ]\n",
            " [ 5.          9.        ]\n",
            " [ 7.          7.33333333]\n",
            " [12.          4.        ]]\n",
            "[['Small' 'Surabaya']\n",
            " ['Small' 'Gresik']\n",
            " ['Medium' 'Gresik']\n",
            " ['Small' 'Sidoarjo']\n",
            " ['Small' 'Gresik']\n",
            " ['Large' 'Gresik']]\n"
          ],
          "name": "stdout"
        }
      ]
    }
  ]
}